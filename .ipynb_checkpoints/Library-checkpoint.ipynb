{
 "cells": [
  {
   "cell_type": "code",
   "execution_count": 46,
   "id": "5a4d6345-d651-43f2-bcf0-a40927f0768a",
   "metadata": {},
   "outputs": [],
   "source": [
    "#ALL EXCEPTION ERRORS ARE DEFINED HERE\n",
    "\n",
    "\n",
    "class idError(Exception):\n",
    "    '''\n",
    "        AN EXCEPTION ERROR IS RAISED \n",
    "        WHEN ID IS NOT FOUND\n",
    "    '''\n",
    "    pass\n",
    "\n",
    "class bookError(Exception):\n",
    "    '''\n",
    "        AN EXCEPTION ERROR IS RAISED\n",
    "        WHEN THE BOOK REQUESTED IS NOT\n",
    "        FOUND IN THE LIBRARY\n",
    "    '''\n",
    "    \n",
    "class categoryError(Exception):\n",
    "    '''\n",
    "        AN EXCEPTION ERROR IS RAISED WHEN INT\n",
    "        VALUE IS NOT FOUND IN CATEGORY\n",
    "    '''\n"
   ]
  },
  {
   "cell_type": "code",
   "execution_count": 54,
   "id": "94836737-2f25-4a9c-8491-02f38911b2f3",
   "metadata": {},
   "outputs": [
    {
     "ename": "SyntaxError",
     "evalue": "EOL while scanning string literal (<ipython-input-54-d93dbddd4ae3>, line 40)",
     "output_type": "error",
     "traceback": [
      "\u001b[1;36m  File \u001b[1;32m\"<ipython-input-54-d93dbddd4ae3>\"\u001b[1;36m, line \u001b[1;32m40\u001b[0m\n\u001b[1;33m    raise categoryError(\"int value not f\u001b[0m\n\u001b[1;37m                                        ^\u001b[0m\n\u001b[1;31mSyntaxError\u001b[0m\u001b[1;31m:\u001b[0m EOL while scanning string literal\n"
     ]
    }
   ],
   "source": [
    "class Library():\n",
    "    def __init__(self, identification_number = [], genre = \"\", comedy = \"\", romance = \"\", action = \"\", history = \"\", sports = \"\", adventure = \"\"):\n",
    "        self.idn = identification_number\n",
    "        self.genre = genre\n",
    "        \n",
    "    def check_id(self):\n",
    "        self.idn = input(\"Please input your ID before borrowing a book: \").split(\" \")\n",
    "        \n",
    "        if self.idn[:2] == ['1', '8']:\n",
    "            try:\n",
    "                sc.pick_genre()\n",
    "            except:\n",
    "                pass\n",
    "        else:\n",
    "            raise idError(\"ID not found in database\")\n",
    "       \n",
    "            \n",
    "    def pick_genre(self):\n",
    "        self.genre = input(\"There are three genres of book available in this library. 1 = Comedy, 2 = Romance, 3 = Action, 4 = History, 5 = Sports, 6 = Adventure . Please select the number that corresponds to the genre you want to read: \")\n",
    "        \n",
    "        while self.idn == True:\n",
    "            if self.genre == 1:\n",
    "                sc.comedy()\n",
    "                 \n",
    "            elif self.genre == 2:\n",
    "                sc.romance()\n",
    "            \n",
    "            elif self.genre == 3:\n",
    "                sc.action()\n",
    "                \n",
    "            elif self.genre == 4:\n",
    "                sc.history()\n",
    "                \n",
    "            elif self.genre == 5:\n",
    "                sc.sports()\n",
    "                \n",
    "            elif self.genre == 6:\n",
    "                sc.adventure()\n",
    "            else:\n",
    "                raise categoryError(\"int value not f\n",
    "1        \n",
    "            \n",
    "\n",
    "            \n",
    "            \n",
    "sc = Library(0, 0, 0, 0, 0, 0, 0) \n",
    "sc.check_id()"
   ]
  },
  {
   "cell_type": "code",
   "execution_count": null,
   "id": "410d5f16-511f-4029-b61b-8e71a59386a5",
   "metadata": {},
   "outputs": [],
   "source": []
  },
  {
   "cell_type": "code",
   "execution_count": null,
   "id": "0a104d98-7904-4349-8099-396a51af5867",
   "metadata": {},
   "outputs": [],
   "source": []
  }
 ],
 "metadata": {
  "kernelspec": {
   "display_name": "Python 3",
   "language": "python",
   "name": "python3"
  },
  "language_info": {
   "codemirror_mode": {
    "name": "ipython",
    "version": 3
   },
   "file_extension": ".py",
   "mimetype": "text/x-python",
   "name": "python",
   "nbconvert_exporter": "python",
   "pygments_lexer": "ipython3",
   "version": "3.8.8"
  }
 },
 "nbformat": 4,
 "nbformat_minor": 5
}
